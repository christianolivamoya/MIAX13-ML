{
  "nbformat": 4,
  "nbformat_minor": 0,
  "metadata": {
    "colab": {
      "provenance": [],
      "toc_visible": true
    },
    "kernelspec": {
      "name": "python3",
      "display_name": "Python 3"
    },
    "language_info": {
      "name": "python"
    }
  },
  "cells": [
    {
      "cell_type": "code",
      "execution_count": 1,
      "metadata": {
        "id": "ZKDipllizqId"
      },
      "outputs": [],
      "source": [
        "import numpy as np\n",
        "import pandas as pd\n",
        "import matplotlib.pyplot as plt\n",
        "import pandas as pd\n",
        "\n",
        "from sklearn.model_selection import train_test_split\n",
        "from sklearn.tree import DecisionTreeClassifier"
      ]
    },
    {
      "cell_type": "code",
      "source": [
        "bank = pd.read_csv('https://raw.githubusercontent.com/christianolivamoya/MIAX11-ML/main/data/bank.csv', sep=';')\n",
        "bank.sample(5)"
      ],
      "metadata": {
        "colab": {
          "base_uri": "https://localhost:8080/",
          "height": 206
        },
        "id": "M2bIiWtyz4SU",
        "outputId": "40eb8107-32a5-4d8c-d83c-b1a2e933976c"
      },
      "execution_count": 2,
      "outputs": [
        {
          "output_type": "execute_result",
          "data": {
            "text/plain": [
              "      age            job   marital  education default  balance housing loan  \\\n",
              "1539   34    blue-collar   married  secondary      no      322     yes   no   \n",
              "3646   48    blue-collar    single  secondary      no      312     yes  yes   \n",
              "283    42         admin.  divorced  secondary      no       63      no   no   \n",
              "4209   38       services   married  secondary      no        0      no  yes   \n",
              "1331   42  self-employed   married  secondary      no       97      no   no   \n",
              "\n",
              "       contact  day month  duration  campaign  pdays  previous poutcome   y  \n",
              "1539  cellular   20   apr        10         3     -1         0  unknown  no  \n",
              "3646  cellular    3   feb       369         2     -1         0  unknown  no  \n",
              "283    unknown   16   may        88         6     -1         0  unknown  no  \n",
              "4209  cellular   16   jul      1473         6     -1         0  unknown  no  \n",
              "1331  cellular   10   jul       108         2     -1         0  unknown  no  "
            ],
            "text/html": [
              "\n",
              "  <div id=\"df-f4d2264f-cb64-4f6a-93b5-f6acafcc3e2e\" class=\"colab-df-container\">\n",
              "    <div>\n",
              "<style scoped>\n",
              "    .dataframe tbody tr th:only-of-type {\n",
              "        vertical-align: middle;\n",
              "    }\n",
              "\n",
              "    .dataframe tbody tr th {\n",
              "        vertical-align: top;\n",
              "    }\n",
              "\n",
              "    .dataframe thead th {\n",
              "        text-align: right;\n",
              "    }\n",
              "</style>\n",
              "<table border=\"1\" class=\"dataframe\">\n",
              "  <thead>\n",
              "    <tr style=\"text-align: right;\">\n",
              "      <th></th>\n",
              "      <th>age</th>\n",
              "      <th>job</th>\n",
              "      <th>marital</th>\n",
              "      <th>education</th>\n",
              "      <th>default</th>\n",
              "      <th>balance</th>\n",
              "      <th>housing</th>\n",
              "      <th>loan</th>\n",
              "      <th>contact</th>\n",
              "      <th>day</th>\n",
              "      <th>month</th>\n",
              "      <th>duration</th>\n",
              "      <th>campaign</th>\n",
              "      <th>pdays</th>\n",
              "      <th>previous</th>\n",
              "      <th>poutcome</th>\n",
              "      <th>y</th>\n",
              "    </tr>\n",
              "  </thead>\n",
              "  <tbody>\n",
              "    <tr>\n",
              "      <th>1539</th>\n",
              "      <td>34</td>\n",
              "      <td>blue-collar</td>\n",
              "      <td>married</td>\n",
              "      <td>secondary</td>\n",
              "      <td>no</td>\n",
              "      <td>322</td>\n",
              "      <td>yes</td>\n",
              "      <td>no</td>\n",
              "      <td>cellular</td>\n",
              "      <td>20</td>\n",
              "      <td>apr</td>\n",
              "      <td>10</td>\n",
              "      <td>3</td>\n",
              "      <td>-1</td>\n",
              "      <td>0</td>\n",
              "      <td>unknown</td>\n",
              "      <td>no</td>\n",
              "    </tr>\n",
              "    <tr>\n",
              "      <th>3646</th>\n",
              "      <td>48</td>\n",
              "      <td>blue-collar</td>\n",
              "      <td>single</td>\n",
              "      <td>secondary</td>\n",
              "      <td>no</td>\n",
              "      <td>312</td>\n",
              "      <td>yes</td>\n",
              "      <td>yes</td>\n",
              "      <td>cellular</td>\n",
              "      <td>3</td>\n",
              "      <td>feb</td>\n",
              "      <td>369</td>\n",
              "      <td>2</td>\n",
              "      <td>-1</td>\n",
              "      <td>0</td>\n",
              "      <td>unknown</td>\n",
              "      <td>no</td>\n",
              "    </tr>\n",
              "    <tr>\n",
              "      <th>283</th>\n",
              "      <td>42</td>\n",
              "      <td>admin.</td>\n",
              "      <td>divorced</td>\n",
              "      <td>secondary</td>\n",
              "      <td>no</td>\n",
              "      <td>63</td>\n",
              "      <td>no</td>\n",
              "      <td>no</td>\n",
              "      <td>unknown</td>\n",
              "      <td>16</td>\n",
              "      <td>may</td>\n",
              "      <td>88</td>\n",
              "      <td>6</td>\n",
              "      <td>-1</td>\n",
              "      <td>0</td>\n",
              "      <td>unknown</td>\n",
              "      <td>no</td>\n",
              "    </tr>\n",
              "    <tr>\n",
              "      <th>4209</th>\n",
              "      <td>38</td>\n",
              "      <td>services</td>\n",
              "      <td>married</td>\n",
              "      <td>secondary</td>\n",
              "      <td>no</td>\n",
              "      <td>0</td>\n",
              "      <td>no</td>\n",
              "      <td>yes</td>\n",
              "      <td>cellular</td>\n",
              "      <td>16</td>\n",
              "      <td>jul</td>\n",
              "      <td>1473</td>\n",
              "      <td>6</td>\n",
              "      <td>-1</td>\n",
              "      <td>0</td>\n",
              "      <td>unknown</td>\n",
              "      <td>no</td>\n",
              "    </tr>\n",
              "    <tr>\n",
              "      <th>1331</th>\n",
              "      <td>42</td>\n",
              "      <td>self-employed</td>\n",
              "      <td>married</td>\n",
              "      <td>secondary</td>\n",
              "      <td>no</td>\n",
              "      <td>97</td>\n",
              "      <td>no</td>\n",
              "      <td>no</td>\n",
              "      <td>cellular</td>\n",
              "      <td>10</td>\n",
              "      <td>jul</td>\n",
              "      <td>108</td>\n",
              "      <td>2</td>\n",
              "      <td>-1</td>\n",
              "      <td>0</td>\n",
              "      <td>unknown</td>\n",
              "      <td>no</td>\n",
              "    </tr>\n",
              "  </tbody>\n",
              "</table>\n",
              "</div>\n",
              "    <div class=\"colab-df-buttons\">\n",
              "\n",
              "  <div class=\"colab-df-container\">\n",
              "    <button class=\"colab-df-convert\" onclick=\"convertToInteractive('df-f4d2264f-cb64-4f6a-93b5-f6acafcc3e2e')\"\n",
              "            title=\"Convert this dataframe to an interactive table.\"\n",
              "            style=\"display:none;\">\n",
              "\n",
              "  <svg xmlns=\"http://www.w3.org/2000/svg\" height=\"24px\" viewBox=\"0 -960 960 960\">\n",
              "    <path d=\"M120-120v-720h720v720H120Zm60-500h600v-160H180v160Zm220 220h160v-160H400v160Zm0 220h160v-160H400v160ZM180-400h160v-160H180v160Zm440 0h160v-160H620v160ZM180-180h160v-160H180v160Zm440 0h160v-160H620v160Z\"/>\n",
              "  </svg>\n",
              "    </button>\n",
              "\n",
              "  <style>\n",
              "    .colab-df-container {\n",
              "      display:flex;\n",
              "      gap: 12px;\n",
              "    }\n",
              "\n",
              "    .colab-df-convert {\n",
              "      background-color: #E8F0FE;\n",
              "      border: none;\n",
              "      border-radius: 50%;\n",
              "      cursor: pointer;\n",
              "      display: none;\n",
              "      fill: #1967D2;\n",
              "      height: 32px;\n",
              "      padding: 0 0 0 0;\n",
              "      width: 32px;\n",
              "    }\n",
              "\n",
              "    .colab-df-convert:hover {\n",
              "      background-color: #E2EBFA;\n",
              "      box-shadow: 0px 1px 2px rgba(60, 64, 67, 0.3), 0px 1px 3px 1px rgba(60, 64, 67, 0.15);\n",
              "      fill: #174EA6;\n",
              "    }\n",
              "\n",
              "    .colab-df-buttons div {\n",
              "      margin-bottom: 4px;\n",
              "    }\n",
              "\n",
              "    [theme=dark] .colab-df-convert {\n",
              "      background-color: #3B4455;\n",
              "      fill: #D2E3FC;\n",
              "    }\n",
              "\n",
              "    [theme=dark] .colab-df-convert:hover {\n",
              "      background-color: #434B5C;\n",
              "      box-shadow: 0px 1px 3px 1px rgba(0, 0, 0, 0.15);\n",
              "      filter: drop-shadow(0px 1px 2px rgba(0, 0, 0, 0.3));\n",
              "      fill: #FFFFFF;\n",
              "    }\n",
              "  </style>\n",
              "\n",
              "    <script>\n",
              "      const buttonEl =\n",
              "        document.querySelector('#df-f4d2264f-cb64-4f6a-93b5-f6acafcc3e2e button.colab-df-convert');\n",
              "      buttonEl.style.display =\n",
              "        google.colab.kernel.accessAllowed ? 'block' : 'none';\n",
              "\n",
              "      async function convertToInteractive(key) {\n",
              "        const element = document.querySelector('#df-f4d2264f-cb64-4f6a-93b5-f6acafcc3e2e');\n",
              "        const dataTable =\n",
              "          await google.colab.kernel.invokeFunction('convertToInteractive',\n",
              "                                                    [key], {});\n",
              "        if (!dataTable) return;\n",
              "\n",
              "        const docLinkHtml = 'Like what you see? Visit the ' +\n",
              "          '<a target=\"_blank\" href=https://colab.research.google.com/notebooks/data_table.ipynb>data table notebook</a>'\n",
              "          + ' to learn more about interactive tables.';\n",
              "        element.innerHTML = '';\n",
              "        dataTable['output_type'] = 'display_data';\n",
              "        await google.colab.output.renderOutput(dataTable, element);\n",
              "        const docLink = document.createElement('div');\n",
              "        docLink.innerHTML = docLinkHtml;\n",
              "        element.appendChild(docLink);\n",
              "      }\n",
              "    </script>\n",
              "  </div>\n",
              "\n",
              "\n",
              "    <div id=\"df-935bb6d2-5920-4552-ad59-a6dba31abb49\">\n",
              "      <button class=\"colab-df-quickchart\" onclick=\"quickchart('df-935bb6d2-5920-4552-ad59-a6dba31abb49')\"\n",
              "                title=\"Suggest charts\"\n",
              "                style=\"display:none;\">\n",
              "\n",
              "<svg xmlns=\"http://www.w3.org/2000/svg\" height=\"24px\"viewBox=\"0 0 24 24\"\n",
              "     width=\"24px\">\n",
              "    <g>\n",
              "        <path d=\"M19 3H5c-1.1 0-2 .9-2 2v14c0 1.1.9 2 2 2h14c1.1 0 2-.9 2-2V5c0-1.1-.9-2-2-2zM9 17H7v-7h2v7zm4 0h-2V7h2v10zm4 0h-2v-4h2v4z\"/>\n",
              "    </g>\n",
              "</svg>\n",
              "      </button>\n",
              "\n",
              "<style>\n",
              "  .colab-df-quickchart {\n",
              "      --bg-color: #E8F0FE;\n",
              "      --fill-color: #1967D2;\n",
              "      --hover-bg-color: #E2EBFA;\n",
              "      --hover-fill-color: #174EA6;\n",
              "      --disabled-fill-color: #AAA;\n",
              "      --disabled-bg-color: #DDD;\n",
              "  }\n",
              "\n",
              "  [theme=dark] .colab-df-quickchart {\n",
              "      --bg-color: #3B4455;\n",
              "      --fill-color: #D2E3FC;\n",
              "      --hover-bg-color: #434B5C;\n",
              "      --hover-fill-color: #FFFFFF;\n",
              "      --disabled-bg-color: #3B4455;\n",
              "      --disabled-fill-color: #666;\n",
              "  }\n",
              "\n",
              "  .colab-df-quickchart {\n",
              "    background-color: var(--bg-color);\n",
              "    border: none;\n",
              "    border-radius: 50%;\n",
              "    cursor: pointer;\n",
              "    display: none;\n",
              "    fill: var(--fill-color);\n",
              "    height: 32px;\n",
              "    padding: 0;\n",
              "    width: 32px;\n",
              "  }\n",
              "\n",
              "  .colab-df-quickchart:hover {\n",
              "    background-color: var(--hover-bg-color);\n",
              "    box-shadow: 0 1px 2px rgba(60, 64, 67, 0.3), 0 1px 3px 1px rgba(60, 64, 67, 0.15);\n",
              "    fill: var(--button-hover-fill-color);\n",
              "  }\n",
              "\n",
              "  .colab-df-quickchart-complete:disabled,\n",
              "  .colab-df-quickchart-complete:disabled:hover {\n",
              "    background-color: var(--disabled-bg-color);\n",
              "    fill: var(--disabled-fill-color);\n",
              "    box-shadow: none;\n",
              "  }\n",
              "\n",
              "  .colab-df-spinner {\n",
              "    border: 2px solid var(--fill-color);\n",
              "    border-color: transparent;\n",
              "    border-bottom-color: var(--fill-color);\n",
              "    animation:\n",
              "      spin 1s steps(1) infinite;\n",
              "  }\n",
              "\n",
              "  @keyframes spin {\n",
              "    0% {\n",
              "      border-color: transparent;\n",
              "      border-bottom-color: var(--fill-color);\n",
              "      border-left-color: var(--fill-color);\n",
              "    }\n",
              "    20% {\n",
              "      border-color: transparent;\n",
              "      border-left-color: var(--fill-color);\n",
              "      border-top-color: var(--fill-color);\n",
              "    }\n",
              "    30% {\n",
              "      border-color: transparent;\n",
              "      border-left-color: var(--fill-color);\n",
              "      border-top-color: var(--fill-color);\n",
              "      border-right-color: var(--fill-color);\n",
              "    }\n",
              "    40% {\n",
              "      border-color: transparent;\n",
              "      border-right-color: var(--fill-color);\n",
              "      border-top-color: var(--fill-color);\n",
              "    }\n",
              "    60% {\n",
              "      border-color: transparent;\n",
              "      border-right-color: var(--fill-color);\n",
              "    }\n",
              "    80% {\n",
              "      border-color: transparent;\n",
              "      border-right-color: var(--fill-color);\n",
              "      border-bottom-color: var(--fill-color);\n",
              "    }\n",
              "    90% {\n",
              "      border-color: transparent;\n",
              "      border-bottom-color: var(--fill-color);\n",
              "    }\n",
              "  }\n",
              "</style>\n",
              "\n",
              "      <script>\n",
              "        async function quickchart(key) {\n",
              "          const quickchartButtonEl =\n",
              "            document.querySelector('#' + key + ' button');\n",
              "          quickchartButtonEl.disabled = true;  // To prevent multiple clicks.\n",
              "          quickchartButtonEl.classList.add('colab-df-spinner');\n",
              "          try {\n",
              "            const charts = await google.colab.kernel.invokeFunction(\n",
              "                'suggestCharts', [key], {});\n",
              "          } catch (error) {\n",
              "            console.error('Error during call to suggestCharts:', error);\n",
              "          }\n",
              "          quickchartButtonEl.classList.remove('colab-df-spinner');\n",
              "          quickchartButtonEl.classList.add('colab-df-quickchart-complete');\n",
              "        }\n",
              "        (() => {\n",
              "          let quickchartButtonEl =\n",
              "            document.querySelector('#df-935bb6d2-5920-4552-ad59-a6dba31abb49 button');\n",
              "          quickchartButtonEl.style.display =\n",
              "            google.colab.kernel.accessAllowed ? 'block' : 'none';\n",
              "        })();\n",
              "      </script>\n",
              "    </div>\n",
              "\n",
              "    </div>\n",
              "  </div>\n"
            ],
            "application/vnd.google.colaboratory.intrinsic+json": {
              "type": "dataframe",
              "summary": "{\n  \"name\": \"bank\",\n  \"rows\": 5,\n  \"fields\": [\n    {\n      \"column\": \"age\",\n      \"properties\": {\n        \"dtype\": \"number\",\n        \"std\": 5,\n        \"min\": 34,\n        \"max\": 48,\n        \"num_unique_values\": 4,\n        \"samples\": [\n          48,\n          38,\n          34\n        ],\n        \"semantic_type\": \"\",\n        \"description\": \"\"\n      }\n    },\n    {\n      \"column\": \"job\",\n      \"properties\": {\n        \"dtype\": \"string\",\n        \"num_unique_values\": 4,\n        \"samples\": [\n          \"admin.\",\n          \"self-employed\",\n          \"blue-collar\"\n        ],\n        \"semantic_type\": \"\",\n        \"description\": \"\"\n      }\n    },\n    {\n      \"column\": \"marital\",\n      \"properties\": {\n        \"dtype\": \"string\",\n        \"num_unique_values\": 3,\n        \"samples\": [\n          \"married\",\n          \"single\",\n          \"divorced\"\n        ],\n        \"semantic_type\": \"\",\n        \"description\": \"\"\n      }\n    },\n    {\n      \"column\": \"education\",\n      \"properties\": {\n        \"dtype\": \"category\",\n        \"num_unique_values\": 1,\n        \"samples\": [\n          \"secondary\"\n        ],\n        \"semantic_type\": \"\",\n        \"description\": \"\"\n      }\n    },\n    {\n      \"column\": \"default\",\n      \"properties\": {\n        \"dtype\": \"category\",\n        \"num_unique_values\": 1,\n        \"samples\": [\n          \"no\"\n        ],\n        \"semantic_type\": \"\",\n        \"description\": \"\"\n      }\n    },\n    {\n      \"column\": \"balance\",\n      \"properties\": {\n        \"dtype\": \"number\",\n        \"std\": 148,\n        \"min\": 0,\n        \"max\": 322,\n        \"num_unique_values\": 5,\n        \"samples\": [\n          312\n        ],\n        \"semantic_type\": \"\",\n        \"description\": \"\"\n      }\n    },\n    {\n      \"column\": \"housing\",\n      \"properties\": {\n        \"dtype\": \"category\",\n        \"num_unique_values\": 2,\n        \"samples\": [\n          \"no\"\n        ],\n        \"semantic_type\": \"\",\n        \"description\": \"\"\n      }\n    },\n    {\n      \"column\": \"loan\",\n      \"properties\": {\n        \"dtype\": \"category\",\n        \"num_unique_values\": 2,\n        \"samples\": [\n          \"yes\"\n        ],\n        \"semantic_type\": \"\",\n        \"description\": \"\"\n      }\n    },\n    {\n      \"column\": \"contact\",\n      \"properties\": {\n        \"dtype\": \"category\",\n        \"num_unique_values\": 2,\n        \"samples\": [\n          \"unknown\"\n        ],\n        \"semantic_type\": \"\",\n        \"description\": \"\"\n      }\n    },\n    {\n      \"column\": \"day\",\n      \"properties\": {\n        \"dtype\": \"number\",\n        \"std\": 6,\n        \"min\": 3,\n        \"max\": 20,\n        \"num_unique_values\": 4,\n        \"samples\": [\n          3\n        ],\n        \"semantic_type\": \"\",\n        \"description\": \"\"\n      }\n    },\n    {\n      \"column\": \"month\",\n      \"properties\": {\n        \"dtype\": \"string\",\n        \"num_unique_values\": 4,\n        \"samples\": [\n          \"feb\"\n        ],\n        \"semantic_type\": \"\",\n        \"description\": \"\"\n      }\n    },\n    {\n      \"column\": \"duration\",\n      \"properties\": {\n        \"dtype\": \"number\",\n        \"std\": 609,\n        \"min\": 10,\n        \"max\": 1473,\n        \"num_unique_values\": 5,\n        \"samples\": [\n          369\n        ],\n        \"semantic_type\": \"\",\n        \"description\": \"\"\n      }\n    },\n    {\n      \"column\": \"campaign\",\n      \"properties\": {\n        \"dtype\": \"number\",\n        \"std\": 2,\n        \"min\": 2,\n        \"max\": 6,\n        \"num_unique_values\": 3,\n        \"samples\": [\n          3\n        ],\n        \"semantic_type\": \"\",\n        \"description\": \"\"\n      }\n    },\n    {\n      \"column\": \"pdays\",\n      \"properties\": {\n        \"dtype\": \"number\",\n        \"std\": 0,\n        \"min\": -1,\n        \"max\": -1,\n        \"num_unique_values\": 1,\n        \"samples\": [\n          -1\n        ],\n        \"semantic_type\": \"\",\n        \"description\": \"\"\n      }\n    },\n    {\n      \"column\": \"previous\",\n      \"properties\": {\n        \"dtype\": \"number\",\n        \"std\": 0,\n        \"min\": 0,\n        \"max\": 0,\n        \"num_unique_values\": 1,\n        \"samples\": [\n          0\n        ],\n        \"semantic_type\": \"\",\n        \"description\": \"\"\n      }\n    },\n    {\n      \"column\": \"poutcome\",\n      \"properties\": {\n        \"dtype\": \"category\",\n        \"num_unique_values\": 1,\n        \"samples\": [\n          \"unknown\"\n        ],\n        \"semantic_type\": \"\",\n        \"description\": \"\"\n      }\n    },\n    {\n      \"column\": \"y\",\n      \"properties\": {\n        \"dtype\": \"category\",\n        \"num_unique_values\": 1,\n        \"samples\": [\n          \"no\"\n        ],\n        \"semantic_type\": \"\",\n        \"description\": \"\"\n      }\n    }\n  ]\n}"
            }
          },
          "metadata": {},
          "execution_count": 2
        }
      ]
    },
    {
      "cell_type": "code",
      "source": [
        "bank.drop(columns=['day', 'month'], inplace=True)\n",
        "educ_mapping = {'unknown':0,\n",
        "                'primary':1,\n",
        "                'secondary':2,\n",
        "                'tertiary':3}\n",
        "noyes_mapping = {'no':False, 'yes':True}\n",
        "bank['education'].replace(educ_mapping, inplace=True)\n",
        "bank['y'].replace(noyes_mapping, inplace=True) # Cambio el target a True (1) o False (0)\n",
        "bank['default'].replace(noyes_mapping, inplace=True)\n",
        "bank['housing'].replace(noyes_mapping, inplace=True)\n",
        "bank['loan'].replace(noyes_mapping, inplace=True)\n",
        "\n",
        "features = bank.drop(columns='y')\n",
        "target = bank['y']\n",
        "\n",
        "features = pd.get_dummies(features)\n",
        "features.sample(5)"
      ],
      "metadata": {
        "colab": {
          "base_uri": "https://localhost:8080/",
          "height": 1000
        },
        "id": "WP5mRREv7mQ6",
        "outputId": "8663ffcd-84c0-4f51-f693-78269d183118"
      },
      "execution_count": 3,
      "outputs": [
        {
          "output_type": "stream",
          "name": "stderr",
          "text": [
            "<ipython-input-3-71c2651dea92>:7: FutureWarning: A value is trying to be set on a copy of a DataFrame or Series through chained assignment using an inplace method.\n",
            "The behavior will change in pandas 3.0. This inplace method will never work because the intermediate object on which we are setting values always behaves as a copy.\n",
            "\n",
            "For example, when doing 'df[col].method(value, inplace=True)', try using 'df.method({col: value}, inplace=True)' or df[col] = df[col].method(value) instead, to perform the operation inplace on the original object.\n",
            "\n",
            "\n",
            "  bank['education'].replace(educ_mapping, inplace=True)\n",
            "<ipython-input-3-71c2651dea92>:7: FutureWarning: Downcasting behavior in `replace` is deprecated and will be removed in a future version. To retain the old behavior, explicitly call `result.infer_objects(copy=False)`. To opt-in to the future behavior, set `pd.set_option('future.no_silent_downcasting', True)`\n",
            "  bank['education'].replace(educ_mapping, inplace=True)\n",
            "<ipython-input-3-71c2651dea92>:8: FutureWarning: A value is trying to be set on a copy of a DataFrame or Series through chained assignment using an inplace method.\n",
            "The behavior will change in pandas 3.0. This inplace method will never work because the intermediate object on which we are setting values always behaves as a copy.\n",
            "\n",
            "For example, when doing 'df[col].method(value, inplace=True)', try using 'df.method({col: value}, inplace=True)' or df[col] = df[col].method(value) instead, to perform the operation inplace on the original object.\n",
            "\n",
            "\n",
            "  bank['y'].replace(noyes_mapping, inplace=True) # Cambio el target a True (1) o False (0)\n",
            "<ipython-input-3-71c2651dea92>:8: FutureWarning: Downcasting behavior in `replace` is deprecated and will be removed in a future version. To retain the old behavior, explicitly call `result.infer_objects(copy=False)`. To opt-in to the future behavior, set `pd.set_option('future.no_silent_downcasting', True)`\n",
            "  bank['y'].replace(noyes_mapping, inplace=True) # Cambio el target a True (1) o False (0)\n",
            "<ipython-input-3-71c2651dea92>:9: FutureWarning: A value is trying to be set on a copy of a DataFrame or Series through chained assignment using an inplace method.\n",
            "The behavior will change in pandas 3.0. This inplace method will never work because the intermediate object on which we are setting values always behaves as a copy.\n",
            "\n",
            "For example, when doing 'df[col].method(value, inplace=True)', try using 'df.method({col: value}, inplace=True)' or df[col] = df[col].method(value) instead, to perform the operation inplace on the original object.\n",
            "\n",
            "\n",
            "  bank['default'].replace(noyes_mapping, inplace=True)\n",
            "<ipython-input-3-71c2651dea92>:9: FutureWarning: Downcasting behavior in `replace` is deprecated and will be removed in a future version. To retain the old behavior, explicitly call `result.infer_objects(copy=False)`. To opt-in to the future behavior, set `pd.set_option('future.no_silent_downcasting', True)`\n",
            "  bank['default'].replace(noyes_mapping, inplace=True)\n",
            "<ipython-input-3-71c2651dea92>:10: FutureWarning: A value is trying to be set on a copy of a DataFrame or Series through chained assignment using an inplace method.\n",
            "The behavior will change in pandas 3.0. This inplace method will never work because the intermediate object on which we are setting values always behaves as a copy.\n",
            "\n",
            "For example, when doing 'df[col].method(value, inplace=True)', try using 'df.method({col: value}, inplace=True)' or df[col] = df[col].method(value) instead, to perform the operation inplace on the original object.\n",
            "\n",
            "\n",
            "  bank['housing'].replace(noyes_mapping, inplace=True)\n",
            "<ipython-input-3-71c2651dea92>:10: FutureWarning: Downcasting behavior in `replace` is deprecated and will be removed in a future version. To retain the old behavior, explicitly call `result.infer_objects(copy=False)`. To opt-in to the future behavior, set `pd.set_option('future.no_silent_downcasting', True)`\n",
            "  bank['housing'].replace(noyes_mapping, inplace=True)\n",
            "<ipython-input-3-71c2651dea92>:11: FutureWarning: A value is trying to be set on a copy of a DataFrame or Series through chained assignment using an inplace method.\n",
            "The behavior will change in pandas 3.0. This inplace method will never work because the intermediate object on which we are setting values always behaves as a copy.\n",
            "\n",
            "For example, when doing 'df[col].method(value, inplace=True)', try using 'df.method({col: value}, inplace=True)' or df[col] = df[col].method(value) instead, to perform the operation inplace on the original object.\n",
            "\n",
            "\n",
            "  bank['loan'].replace(noyes_mapping, inplace=True)\n",
            "<ipython-input-3-71c2651dea92>:11: FutureWarning: Downcasting behavior in `replace` is deprecated and will be removed in a future version. To retain the old behavior, explicitly call `result.infer_objects(copy=False)`. To opt-in to the future behavior, set `pd.set_option('future.no_silent_downcasting', True)`\n",
            "  bank['loan'].replace(noyes_mapping, inplace=True)\n"
          ]
        },
        {
          "output_type": "execute_result",
          "data": {
            "text/plain": [
              "      age  education  default  balance  housing   loan  duration  campaign  \\\n",
              "251    32          3    False     2349    False  False       134         5   \n",
              "794    29          2    False      908     True  False      1663         1   \n",
              "1533   32          2    False     1721     True  False       650         2   \n",
              "4505   32          2    False      620     True  False      1234         3   \n",
              "1503   56          2    False     -113     True   True       614         2   \n",
              "\n",
              "      pdays  previous  ...  marital_divorced  marital_married  marital_single  \\\n",
              "251      -1         0  ...             False             True           False   \n",
              "794      -1         0  ...             False            False            True   \n",
              "1533     -1         0  ...             False            False            True   \n",
              "4505     -1         0  ...             False            False            True   \n",
              "1503     -1         0  ...             False             True           False   \n",
              "\n",
              "      contact_cellular  contact_telephone  contact_unknown  poutcome_failure  \\\n",
              "251               True              False            False             False   \n",
              "794              False              False             True             False   \n",
              "1533             False              False             True             False   \n",
              "4505             False              False             True             False   \n",
              "1503              True              False            False             False   \n",
              "\n",
              "      poutcome_other  poutcome_success  poutcome_unknown  \n",
              "251            False             False              True  \n",
              "794            False             False              True  \n",
              "1533           False             False              True  \n",
              "4505           False             False              True  \n",
              "1503           False             False              True  \n",
              "\n",
              "[5 rows x 32 columns]"
            ],
            "text/html": [
              "\n",
              "  <div id=\"df-5bf64e15-f3a4-46ba-9c2b-a773252a3ebf\" class=\"colab-df-container\">\n",
              "    <div>\n",
              "<style scoped>\n",
              "    .dataframe tbody tr th:only-of-type {\n",
              "        vertical-align: middle;\n",
              "    }\n",
              "\n",
              "    .dataframe tbody tr th {\n",
              "        vertical-align: top;\n",
              "    }\n",
              "\n",
              "    .dataframe thead th {\n",
              "        text-align: right;\n",
              "    }\n",
              "</style>\n",
              "<table border=\"1\" class=\"dataframe\">\n",
              "  <thead>\n",
              "    <tr style=\"text-align: right;\">\n",
              "      <th></th>\n",
              "      <th>age</th>\n",
              "      <th>education</th>\n",
              "      <th>default</th>\n",
              "      <th>balance</th>\n",
              "      <th>housing</th>\n",
              "      <th>loan</th>\n",
              "      <th>duration</th>\n",
              "      <th>campaign</th>\n",
              "      <th>pdays</th>\n",
              "      <th>previous</th>\n",
              "      <th>...</th>\n",
              "      <th>marital_divorced</th>\n",
              "      <th>marital_married</th>\n",
              "      <th>marital_single</th>\n",
              "      <th>contact_cellular</th>\n",
              "      <th>contact_telephone</th>\n",
              "      <th>contact_unknown</th>\n",
              "      <th>poutcome_failure</th>\n",
              "      <th>poutcome_other</th>\n",
              "      <th>poutcome_success</th>\n",
              "      <th>poutcome_unknown</th>\n",
              "    </tr>\n",
              "  </thead>\n",
              "  <tbody>\n",
              "    <tr>\n",
              "      <th>251</th>\n",
              "      <td>32</td>\n",
              "      <td>3</td>\n",
              "      <td>False</td>\n",
              "      <td>2349</td>\n",
              "      <td>False</td>\n",
              "      <td>False</td>\n",
              "      <td>134</td>\n",
              "      <td>5</td>\n",
              "      <td>-1</td>\n",
              "      <td>0</td>\n",
              "      <td>...</td>\n",
              "      <td>False</td>\n",
              "      <td>True</td>\n",
              "      <td>False</td>\n",
              "      <td>True</td>\n",
              "      <td>False</td>\n",
              "      <td>False</td>\n",
              "      <td>False</td>\n",
              "      <td>False</td>\n",
              "      <td>False</td>\n",
              "      <td>True</td>\n",
              "    </tr>\n",
              "    <tr>\n",
              "      <th>794</th>\n",
              "      <td>29</td>\n",
              "      <td>2</td>\n",
              "      <td>False</td>\n",
              "      <td>908</td>\n",
              "      <td>True</td>\n",
              "      <td>False</td>\n",
              "      <td>1663</td>\n",
              "      <td>1</td>\n",
              "      <td>-1</td>\n",
              "      <td>0</td>\n",
              "      <td>...</td>\n",
              "      <td>False</td>\n",
              "      <td>False</td>\n",
              "      <td>True</td>\n",
              "      <td>False</td>\n",
              "      <td>False</td>\n",
              "      <td>True</td>\n",
              "      <td>False</td>\n",
              "      <td>False</td>\n",
              "      <td>False</td>\n",
              "      <td>True</td>\n",
              "    </tr>\n",
              "    <tr>\n",
              "      <th>1533</th>\n",
              "      <td>32</td>\n",
              "      <td>2</td>\n",
              "      <td>False</td>\n",
              "      <td>1721</td>\n",
              "      <td>True</td>\n",
              "      <td>False</td>\n",
              "      <td>650</td>\n",
              "      <td>2</td>\n",
              "      <td>-1</td>\n",
              "      <td>0</td>\n",
              "      <td>...</td>\n",
              "      <td>False</td>\n",
              "      <td>False</td>\n",
              "      <td>True</td>\n",
              "      <td>False</td>\n",
              "      <td>False</td>\n",
              "      <td>True</td>\n",
              "      <td>False</td>\n",
              "      <td>False</td>\n",
              "      <td>False</td>\n",
              "      <td>True</td>\n",
              "    </tr>\n",
              "    <tr>\n",
              "      <th>4505</th>\n",
              "      <td>32</td>\n",
              "      <td>2</td>\n",
              "      <td>False</td>\n",
              "      <td>620</td>\n",
              "      <td>True</td>\n",
              "      <td>False</td>\n",
              "      <td>1234</td>\n",
              "      <td>3</td>\n",
              "      <td>-1</td>\n",
              "      <td>0</td>\n",
              "      <td>...</td>\n",
              "      <td>False</td>\n",
              "      <td>False</td>\n",
              "      <td>True</td>\n",
              "      <td>False</td>\n",
              "      <td>False</td>\n",
              "      <td>True</td>\n",
              "      <td>False</td>\n",
              "      <td>False</td>\n",
              "      <td>False</td>\n",
              "      <td>True</td>\n",
              "    </tr>\n",
              "    <tr>\n",
              "      <th>1503</th>\n",
              "      <td>56</td>\n",
              "      <td>2</td>\n",
              "      <td>False</td>\n",
              "      <td>-113</td>\n",
              "      <td>True</td>\n",
              "      <td>True</td>\n",
              "      <td>614</td>\n",
              "      <td>2</td>\n",
              "      <td>-1</td>\n",
              "      <td>0</td>\n",
              "      <td>...</td>\n",
              "      <td>False</td>\n",
              "      <td>True</td>\n",
              "      <td>False</td>\n",
              "      <td>True</td>\n",
              "      <td>False</td>\n",
              "      <td>False</td>\n",
              "      <td>False</td>\n",
              "      <td>False</td>\n",
              "      <td>False</td>\n",
              "      <td>True</td>\n",
              "    </tr>\n",
              "  </tbody>\n",
              "</table>\n",
              "<p>5 rows × 32 columns</p>\n",
              "</div>\n",
              "    <div class=\"colab-df-buttons\">\n",
              "\n",
              "  <div class=\"colab-df-container\">\n",
              "    <button class=\"colab-df-convert\" onclick=\"convertToInteractive('df-5bf64e15-f3a4-46ba-9c2b-a773252a3ebf')\"\n",
              "            title=\"Convert this dataframe to an interactive table.\"\n",
              "            style=\"display:none;\">\n",
              "\n",
              "  <svg xmlns=\"http://www.w3.org/2000/svg\" height=\"24px\" viewBox=\"0 -960 960 960\">\n",
              "    <path d=\"M120-120v-720h720v720H120Zm60-500h600v-160H180v160Zm220 220h160v-160H400v160Zm0 220h160v-160H400v160ZM180-400h160v-160H180v160Zm440 0h160v-160H620v160ZM180-180h160v-160H180v160Zm440 0h160v-160H620v160Z\"/>\n",
              "  </svg>\n",
              "    </button>\n",
              "\n",
              "  <style>\n",
              "    .colab-df-container {\n",
              "      display:flex;\n",
              "      gap: 12px;\n",
              "    }\n",
              "\n",
              "    .colab-df-convert {\n",
              "      background-color: #E8F0FE;\n",
              "      border: none;\n",
              "      border-radius: 50%;\n",
              "      cursor: pointer;\n",
              "      display: none;\n",
              "      fill: #1967D2;\n",
              "      height: 32px;\n",
              "      padding: 0 0 0 0;\n",
              "      width: 32px;\n",
              "    }\n",
              "\n",
              "    .colab-df-convert:hover {\n",
              "      background-color: #E2EBFA;\n",
              "      box-shadow: 0px 1px 2px rgba(60, 64, 67, 0.3), 0px 1px 3px 1px rgba(60, 64, 67, 0.15);\n",
              "      fill: #174EA6;\n",
              "    }\n",
              "\n",
              "    .colab-df-buttons div {\n",
              "      margin-bottom: 4px;\n",
              "    }\n",
              "\n",
              "    [theme=dark] .colab-df-convert {\n",
              "      background-color: #3B4455;\n",
              "      fill: #D2E3FC;\n",
              "    }\n",
              "\n",
              "    [theme=dark] .colab-df-convert:hover {\n",
              "      background-color: #434B5C;\n",
              "      box-shadow: 0px 1px 3px 1px rgba(0, 0, 0, 0.15);\n",
              "      filter: drop-shadow(0px 1px 2px rgba(0, 0, 0, 0.3));\n",
              "      fill: #FFFFFF;\n",
              "    }\n",
              "  </style>\n",
              "\n",
              "    <script>\n",
              "      const buttonEl =\n",
              "        document.querySelector('#df-5bf64e15-f3a4-46ba-9c2b-a773252a3ebf button.colab-df-convert');\n",
              "      buttonEl.style.display =\n",
              "        google.colab.kernel.accessAllowed ? 'block' : 'none';\n",
              "\n",
              "      async function convertToInteractive(key) {\n",
              "        const element = document.querySelector('#df-5bf64e15-f3a4-46ba-9c2b-a773252a3ebf');\n",
              "        const dataTable =\n",
              "          await google.colab.kernel.invokeFunction('convertToInteractive',\n",
              "                                                    [key], {});\n",
              "        if (!dataTable) return;\n",
              "\n",
              "        const docLinkHtml = 'Like what you see? Visit the ' +\n",
              "          '<a target=\"_blank\" href=https://colab.research.google.com/notebooks/data_table.ipynb>data table notebook</a>'\n",
              "          + ' to learn more about interactive tables.';\n",
              "        element.innerHTML = '';\n",
              "        dataTable['output_type'] = 'display_data';\n",
              "        await google.colab.output.renderOutput(dataTable, element);\n",
              "        const docLink = document.createElement('div');\n",
              "        docLink.innerHTML = docLinkHtml;\n",
              "        element.appendChild(docLink);\n",
              "      }\n",
              "    </script>\n",
              "  </div>\n",
              "\n",
              "\n",
              "    <div id=\"df-d0fe8a3c-45a3-4287-b856-23842f1e63ac\">\n",
              "      <button class=\"colab-df-quickchart\" onclick=\"quickchart('df-d0fe8a3c-45a3-4287-b856-23842f1e63ac')\"\n",
              "                title=\"Suggest charts\"\n",
              "                style=\"display:none;\">\n",
              "\n",
              "<svg xmlns=\"http://www.w3.org/2000/svg\" height=\"24px\"viewBox=\"0 0 24 24\"\n",
              "     width=\"24px\">\n",
              "    <g>\n",
              "        <path d=\"M19 3H5c-1.1 0-2 .9-2 2v14c0 1.1.9 2 2 2h14c1.1 0 2-.9 2-2V5c0-1.1-.9-2-2-2zM9 17H7v-7h2v7zm4 0h-2V7h2v10zm4 0h-2v-4h2v4z\"/>\n",
              "    </g>\n",
              "</svg>\n",
              "      </button>\n",
              "\n",
              "<style>\n",
              "  .colab-df-quickchart {\n",
              "      --bg-color: #E8F0FE;\n",
              "      --fill-color: #1967D2;\n",
              "      --hover-bg-color: #E2EBFA;\n",
              "      --hover-fill-color: #174EA6;\n",
              "      --disabled-fill-color: #AAA;\n",
              "      --disabled-bg-color: #DDD;\n",
              "  }\n",
              "\n",
              "  [theme=dark] .colab-df-quickchart {\n",
              "      --bg-color: #3B4455;\n",
              "      --fill-color: #D2E3FC;\n",
              "      --hover-bg-color: #434B5C;\n",
              "      --hover-fill-color: #FFFFFF;\n",
              "      --disabled-bg-color: #3B4455;\n",
              "      --disabled-fill-color: #666;\n",
              "  }\n",
              "\n",
              "  .colab-df-quickchart {\n",
              "    background-color: var(--bg-color);\n",
              "    border: none;\n",
              "    border-radius: 50%;\n",
              "    cursor: pointer;\n",
              "    display: none;\n",
              "    fill: var(--fill-color);\n",
              "    height: 32px;\n",
              "    padding: 0;\n",
              "    width: 32px;\n",
              "  }\n",
              "\n",
              "  .colab-df-quickchart:hover {\n",
              "    background-color: var(--hover-bg-color);\n",
              "    box-shadow: 0 1px 2px rgba(60, 64, 67, 0.3), 0 1px 3px 1px rgba(60, 64, 67, 0.15);\n",
              "    fill: var(--button-hover-fill-color);\n",
              "  }\n",
              "\n",
              "  .colab-df-quickchart-complete:disabled,\n",
              "  .colab-df-quickchart-complete:disabled:hover {\n",
              "    background-color: var(--disabled-bg-color);\n",
              "    fill: var(--disabled-fill-color);\n",
              "    box-shadow: none;\n",
              "  }\n",
              "\n",
              "  .colab-df-spinner {\n",
              "    border: 2px solid var(--fill-color);\n",
              "    border-color: transparent;\n",
              "    border-bottom-color: var(--fill-color);\n",
              "    animation:\n",
              "      spin 1s steps(1) infinite;\n",
              "  }\n",
              "\n",
              "  @keyframes spin {\n",
              "    0% {\n",
              "      border-color: transparent;\n",
              "      border-bottom-color: var(--fill-color);\n",
              "      border-left-color: var(--fill-color);\n",
              "    }\n",
              "    20% {\n",
              "      border-color: transparent;\n",
              "      border-left-color: var(--fill-color);\n",
              "      border-top-color: var(--fill-color);\n",
              "    }\n",
              "    30% {\n",
              "      border-color: transparent;\n",
              "      border-left-color: var(--fill-color);\n",
              "      border-top-color: var(--fill-color);\n",
              "      border-right-color: var(--fill-color);\n",
              "    }\n",
              "    40% {\n",
              "      border-color: transparent;\n",
              "      border-right-color: var(--fill-color);\n",
              "      border-top-color: var(--fill-color);\n",
              "    }\n",
              "    60% {\n",
              "      border-color: transparent;\n",
              "      border-right-color: var(--fill-color);\n",
              "    }\n",
              "    80% {\n",
              "      border-color: transparent;\n",
              "      border-right-color: var(--fill-color);\n",
              "      border-bottom-color: var(--fill-color);\n",
              "    }\n",
              "    90% {\n",
              "      border-color: transparent;\n",
              "      border-bottom-color: var(--fill-color);\n",
              "    }\n",
              "  }\n",
              "</style>\n",
              "\n",
              "      <script>\n",
              "        async function quickchart(key) {\n",
              "          const quickchartButtonEl =\n",
              "            document.querySelector('#' + key + ' button');\n",
              "          quickchartButtonEl.disabled = true;  // To prevent multiple clicks.\n",
              "          quickchartButtonEl.classList.add('colab-df-spinner');\n",
              "          try {\n",
              "            const charts = await google.colab.kernel.invokeFunction(\n",
              "                'suggestCharts', [key], {});\n",
              "          } catch (error) {\n",
              "            console.error('Error during call to suggestCharts:', error);\n",
              "          }\n",
              "          quickchartButtonEl.classList.remove('colab-df-spinner');\n",
              "          quickchartButtonEl.classList.add('colab-df-quickchart-complete');\n",
              "        }\n",
              "        (() => {\n",
              "          let quickchartButtonEl =\n",
              "            document.querySelector('#df-d0fe8a3c-45a3-4287-b856-23842f1e63ac button');\n",
              "          quickchartButtonEl.style.display =\n",
              "            google.colab.kernel.accessAllowed ? 'block' : 'none';\n",
              "        })();\n",
              "      </script>\n",
              "    </div>\n",
              "\n",
              "    </div>\n",
              "  </div>\n"
            ],
            "application/vnd.google.colaboratory.intrinsic+json": {
              "type": "dataframe"
            }
          },
          "metadata": {},
          "execution_count": 3
        }
      ]
    },
    {
      "cell_type": "code",
      "source": [
        "dataset_x = []\n",
        "dataset_x.append(features.values[target==True])\n",
        "dataset_x.append(features.values[target==False][:521])\n",
        "dataset_x = np.concatenate(dataset_x)\n",
        "dataset_x = pd.DataFrame(dataset_x, columns=features.columns)\n",
        "dataset_y = np.array([True]*521 + [False]*521)\n",
        "dataset_y = pd.Series(dataset_y, name=\"y\")\n",
        "dataset_x.shape, dataset_y.shape"
      ],
      "metadata": {
        "colab": {
          "base_uri": "https://localhost:8080/"
        },
        "id": "umNTyas17pj0",
        "outputId": "a8f63da4-9b3b-4eda-b316-35721854cb63"
      },
      "execution_count": 4,
      "outputs": [
        {
          "output_type": "execute_result",
          "data": {
            "text/plain": [
              "((1042, 32), (1042,))"
            ]
          },
          "metadata": {},
          "execution_count": 4
        }
      ]
    },
    {
      "cell_type": "code",
      "source": [
        "x_train, x_test, y_train, y_test = train_test_split(dataset_x, dataset_y, test_size=0.2)\n",
        "\n",
        "means = x_train.mean()\n",
        "stds = x_train.std()\n",
        "x_train = (x_train - means) / stds\n",
        "x_test = (x_test - means) / stds"
      ],
      "metadata": {
        "id": "e9CVNry_5esj"
      },
      "execution_count": 5,
      "outputs": []
    },
    {
      "cell_type": "markdown",
      "source": [
        "# Modelo base"
      ],
      "metadata": {
        "id": "sSUKEmey6UyP"
      }
    },
    {
      "cell_type": "code",
      "source": [
        "base_tree = DecisionTreeClassifier()\n",
        "base_tree.fit(x_train, y_train)\n",
        "base_tree.score(x_test, y_test)"
      ],
      "metadata": {
        "colab": {
          "base_uri": "https://localhost:8080/"
        },
        "id": "TR0aFSv46WRk",
        "outputId": "e183f7e5-29e7-4752-c214-e5ae3765e02a"
      },
      "execution_count": 6,
      "outputs": [
        {
          "output_type": "execute_result",
          "data": {
            "text/plain": [
              "0.7559808612440191"
            ]
          },
          "metadata": {},
          "execution_count": 6
        }
      ]
    },
    {
      "cell_type": "markdown",
      "source": [
        "# Bagging"
      ],
      "metadata": {
        "id": "MS1LeL4lz5s8"
      }
    },
    {
      "cell_type": "markdown",
      "source": [
        "El bagging consiste en realizar un muestreo aleatorio con reemplazo, del mismo tamaño que el dataset original."
      ],
      "metadata": {
        "id": "kFRLbcQzKBAb"
      }
    },
    {
      "cell_type": "code",
      "source": [
        "def bagging(num_clasificadores, X_train, y_train):\n",
        "  bagging_x = []\n",
        "  bagging_y = []\n",
        "  for _ in range(num_clasificadores):\n",
        "    # Importante: replace = TRUE\n",
        "    indices = np.random.choice(len(X_train), size=len(X_train), replace=True)\n",
        "    bagging_x.append(X_train[indices])\n",
        "    bagging_y.append(y_train[indices])\n",
        "\n",
        "  return bagging_x, bagging_y"
      ],
      "metadata": {
        "id": "3qoLlfcx0JEa"
      },
      "execution_count": 7,
      "outputs": []
    },
    {
      "cell_type": "markdown",
      "source": [
        "## Entrenamiento de conjunto de clasificadores"
      ],
      "metadata": {
        "id": "CKOedD3g4HDM"
      }
    },
    {
      "cell_type": "markdown",
      "source": [
        "Cada clasificador se entrena con cada uno de los datasets generados con bagging."
      ],
      "metadata": {
        "id": "kCu8aymyKGLh"
      }
    },
    {
      "cell_type": "code",
      "source": [
        "NUM_CLASIFICADORES = 101\n",
        "\n",
        "bagging_x, bagging_y = bagging(NUM_CLASIFICADORES, x_train.values, y_train.values)"
      ],
      "metadata": {
        "id": "BKtIPJkw-q1c"
      },
      "execution_count": 8,
      "outputs": []
    },
    {
      "cell_type": "code",
      "source": [
        "conjunto_clasificadores = []\n",
        "for i in range(NUM_CLASIFICADORES):\n",
        "  tree = DecisionTreeClassifier()\n",
        "  tree.fit(bagging_x[i], bagging_y[i])\n",
        "  conjunto_clasificadores.append(tree)"
      ],
      "metadata": {
        "id": "2goChs-E4FGO"
      },
      "execution_count": 9,
      "outputs": []
    },
    {
      "cell_type": "markdown",
      "source": [
        "## Evaluación de conjunto de clasificadores"
      ],
      "metadata": {
        "id": "7NNkw2pX4Zfv"
      }
    },
    {
      "cell_type": "markdown",
      "source": [
        "Cada clasificador da su predicción al mismo dataset de test (o validación)."
      ],
      "metadata": {
        "id": "9aOE44csKLpp"
      }
    },
    {
      "cell_type": "code",
      "source": [
        "preds = []\n",
        "for cl in conjunto_clasificadores:\n",
        "  preds.append(cl.predict(x_test.values))\n",
        "preds = np.array(preds)"
      ],
      "metadata": {
        "id": "o9iSHv-g4XoW"
      },
      "execution_count": 10,
      "outputs": []
    },
    {
      "cell_type": "code",
      "source": [
        "pred_conjunto = (preds.mean(axis=0) > 0.5)*1"
      ],
      "metadata": {
        "id": "l2BlCm9Z57WT"
      },
      "execution_count": 11,
      "outputs": []
    },
    {
      "cell_type": "code",
      "source": [
        "acc = np.mean(pred_conjunto == y_test)\n",
        "acc"
      ],
      "metadata": {
        "colab": {
          "base_uri": "https://localhost:8080/"
        },
        "id": "TglwZsPl57mq",
        "outputId": "2c5e0fb3-14a4-4cab-db9b-7f08e21b82f8"
      },
      "execution_count": 12,
      "outputs": [
        {
          "output_type": "execute_result",
          "data": {
            "text/plain": [
              "np.float64(0.8038277511961722)"
            ]
          },
          "metadata": {},
          "execution_count": 12
        }
      ]
    },
    {
      "cell_type": "markdown",
      "source": [
        "## Curva de accuracy según número de clasificadores"
      ],
      "metadata": {
        "id": "hbcnfY078sNh"
      }
    },
    {
      "cell_type": "code",
      "source": [
        "curva = []\n",
        "for i in range(1, NUM_CLASIFICADORES+1, 2):\n",
        "  preds = []\n",
        "  for cl in conjunto_clasificadores[:i]:\n",
        "    preds.append(cl.predict(x_test.values))\n",
        "  preds = np.array(preds)\n",
        "  pred_conjunto = (preds.mean(axis=0) > 0.5)*1\n",
        "  acc = np.mean(pred_conjunto == y_test)\n",
        "  curva.append(acc)"
      ],
      "metadata": {
        "id": "HpAA4cMW6M7F"
      },
      "execution_count": 13,
      "outputs": []
    },
    {
      "cell_type": "code",
      "source": [
        "plt.figure(figsize=(15, 2))\n",
        "plt.plot(range(1, NUM_CLASIFICADORES+1, 2), curva, label=\"Conjunto de clasificadores\")\n",
        "plt.axhline(base_tree.score(x_test, y_test), linestyle=':', color=\"red\", label=\"base\")\n",
        "plt.axhline(max(curva), linestyle=':', color=\"green\", label=\"máximo\")\n",
        "plt.legend()\n",
        "plt.show()"
      ],
      "metadata": {
        "colab": {
          "base_uri": "https://localhost:8080/",
          "height": 214
        },
        "id": "VuxMJQt08vPO",
        "outputId": "37674ff2-28e0-48c2-88fe-419c0b6740d7"
      },
      "execution_count": 14,
      "outputs": [
        {
          "output_type": "display_data",
          "data": {
            "text/plain": [
              "<Figure size 1500x200 with 1 Axes>"
            ],
            "image/png": "[encoded data removed]"
          },
          "metadata": {}
        }
      ]
    },
    {
      "cell_type": "markdown",
      "source": [
        "## Bagging en Sklearn"
      ],
      "metadata": {
        "id": "dX1g7LpuKtL-"
      }
    },
    {
      "cell_type": "code",
      "source": [
        "from sklearn.ensemble import BaggingClassifier\n",
        "\n",
        "bagging_model = BaggingClassifier(n_estimators=43)\n",
        "bagging_model.fit(x_train, y_train)\n",
        "bagging_model.score(x_test, y_test)"
      ],
      "metadata": {
        "id": "Oj6D6FJfKvwN",
        "colab": {
          "base_uri": "https://localhost:8080/"
        },
        "outputId": "e6991cb7-c557-4825-b5c7-90985cbf6d33"
      },
      "execution_count": 16,
      "outputs": [
        {
          "output_type": "execute_result",
          "data": {
            "text/plain": [
              "0.8229665071770335"
            ]
          },
          "metadata": {},
          "execution_count": 16
        }
      ]
    },
    {
      "cell_type": "markdown",
      "source": [
        "---"
      ],
      "metadata": {
        "id": "Hdwe4GyMCe8m"
      }
    },
    {
      "cell_type": "markdown",
      "source": [
        "# Boosting"
      ],
      "metadata": {
        "id": "MEQBNkQ8Cgeq"
      }
    },
    {
      "cell_type": "markdown",
      "source": [
        "El Boosting consiste en hacer que cada clasificador del conjunto intenta mejorar los errores de los anteriores.\n",
        "\n",
        "- Cada dato tiene un peso asociado, que determina la probabilidad de ser elegido para construir el siguiente clasificador.\n",
        "- El peso aumenta para los datos mal clasificados.\n",
        "- El peso disminuye para los datos bien clasificados.\n",
        "- El voto de los clasificadores es ponderado en base a su error.\n"
      ],
      "metadata": {
        "id": "1BMwwVNzCiuY"
      }
    },
    {
      "cell_type": "code",
      "source": [
        "NUM_CLASIFICADORES = 101\n",
        "\n",
        "boosting_x = []\n",
        "boosting_y = []\n",
        "weights = np.ones(len(x_train.values))/len(x_train.values)\n",
        "clasificadores = []\n",
        "for _ in range(NUM_CLASIFICADORES):\n",
        "  # Importante definir p=weights\n",
        "  indices = np.random.choice(len(x_train.values), size=len(x_train.values), p=weights, replace=True)\n",
        "  tree = DecisionTreeClassifier()\n",
        "  tree.fit(x_train.values[indices], y_train.values[indices])\n",
        "  clasificadores.append(tree)\n",
        "\n",
        "  # Actualización de pesos, por ejemplo *2 a los fallos y /2 a los aciertos\n",
        "  preds = tree.predict(x_train.values)\n",
        "  fallos = np.where(preds != y_train)[0]\n",
        "  aciertos = np.where(preds == y_train)[0]\n",
        "  weights[fallos] *= 2\n",
        "  weights[aciertos] /= 2\n",
        "  weights /= weights.sum()"
      ],
      "metadata": {
        "id": "-xeqWc7g80n6"
      },
      "execution_count": 17,
      "outputs": []
    },
    {
      "cell_type": "code",
      "source": [
        "preds = []\n",
        "for cl in conjunto_clasificadores:\n",
        "  preds.append(cl.predict(x_test.values))\n",
        "preds = np.array(preds)\n",
        "pred_conjunto = (preds.mean(axis=0) > 0.5)*1\n",
        "acc = np.mean(pred_conjunto == y_test)\n",
        "acc"
      ],
      "metadata": {
        "colab": {
          "base_uri": "https://localhost:8080/"
        },
        "id": "6P6olRoaCkCN",
        "outputId": "844b75b1-4fec-4f99-893b-9c1fac8e56fa"
      },
      "execution_count": 18,
      "outputs": [
        {
          "output_type": "execute_result",
          "data": {
            "text/plain": [
              "np.float64(0.8038277511961722)"
            ]
          },
          "metadata": {},
          "execution_count": 18
        }
      ]
    },
    {
      "cell_type": "markdown",
      "source": [
        "## Curva de accuracy según el número de clasificadores"
      ],
      "metadata": {
        "id": "7E6lP_QRKzgq"
      }
    },
    {
      "cell_type": "code",
      "source": [
        "curva = []\n",
        "for i in range(1, NUM_CLASIFICADORES+1, 2):\n",
        "  preds = []\n",
        "  for cl in conjunto_clasificadores[:i]:\n",
        "    preds.append(cl.predict(x_test.values))\n",
        "  preds = np.array(preds)\n",
        "  pred_conjunto = (preds.mean(axis=0) > 0.5)*1\n",
        "  acc = np.mean(pred_conjunto == y_test)\n",
        "  curva.append(acc)"
      ],
      "metadata": {
        "id": "N4saKNZhCuty"
      },
      "execution_count": 19,
      "outputs": []
    },
    {
      "cell_type": "code",
      "source": [
        "plt.figure(figsize=(15, 2))\n",
        "plt.plot(range(1, NUM_CLASIFICADORES+1, 2), curva, label=\"Conjunto de clasificadores\")\n",
        "plt.axhline(base_tree.score(x_test, y_test), linestyle=':', color=\"red\", label=\"base\")\n",
        "plt.axhline(max(curva), linestyle=':', color=\"green\", label=\"máximo\")\n",
        "plt.legend()\n",
        "plt.show()"
      ],
      "metadata": {
        "colab": {
          "base_uri": "https://localhost:8080/",
          "height": 214
        },
        "id": "AfwM4A6uCyYJ",
        "outputId": "78d61627-971c-4de2-e611-955b46e25cd4"
      },
      "execution_count": 20,
      "outputs": [
        {
          "output_type": "display_data",
          "data": {
            "text/plain": [
              "<Figure size 1500x200 with 1 Axes>"
            ],
            "image/png": "[encoded data removed]"
          },
          "metadata": {}
        }
      ]
    },
    {
      "cell_type": "markdown",
      "source": [
        "## Boosting en Sklearn"
      ],
      "metadata": {
        "id": "0Zc6vDbGK20w"
      }
    },
    {
      "cell_type": "code",
      "source": [
        "from sklearn.ensemble import AdaBoostClassifier\n",
        "\n",
        "boosting = AdaBoostClassifier(n_estimators=41)\n",
        "boosting.fit(x_train, y_train)\n",
        "boosting.score(x_test, y_test)"
      ],
      "metadata": {
        "id": "9hPtqS_uK4ce",
        "colab": {
          "base_uri": "https://localhost:8080/"
        },
        "outputId": "66d56812-783d-49f7-b68b-46bd3fc27a6c"
      },
      "execution_count": 23,
      "outputs": [
        {
          "output_type": "execute_result",
          "data": {
            "text/plain": [
              "0.8133971291866029"
            ]
          },
          "metadata": {},
          "execution_count": 23
        }
      ]
    },
    {
      "cell_type": "markdown",
      "source": [
        "---"
      ],
      "metadata": {
        "id": "Kq-Z7sptDhCG"
      }
    },
    {
      "cell_type": "markdown",
      "source": [
        "# Random Forest"
      ],
      "metadata": {
        "id": "4kI0mgM0DiAv"
      }
    },
    {
      "cell_type": "markdown",
      "source": [
        "En Random Forest, cada clasificador se entrena con un subconjunto distinto de los atributos usando bagging. Normalmente son árboles sin poda."
      ],
      "metadata": {
        "id": "wMBojYdCDjEm"
      }
    },
    {
      "cell_type": "code",
      "source": [
        "NUM_CLASIFICADORES = 101\n",
        "NUM_ATRIBUTOS = len(x_train.columns)\n",
        "NUM_ATRIBUTOS_RANDOM_FOREST = 24\n",
        "\n",
        "bagging_x, bagging_y = bagging(NUM_CLASIFICADORES, x_train.values, y_train.values)\n",
        "clasificadores = []\n",
        "atributos = []\n",
        "for i in range(NUM_CLASIFICADORES):\n",
        "  attr = np.random.choice(len(x_train.columns), NUM_ATRIBUTOS_RANDOM_FOREST, replace=False)\n",
        "  atributos.append(attr)\n",
        "  data_x = bagging_x[i][:, attr]\n",
        "  data_y = bagging_y[i]\n",
        "  tree = DecisionTreeClassifier()\n",
        "  tree.fit(data_x, data_y)\n",
        "  clasificadores.append(tree)"
      ],
      "metadata": {
        "id": "7AIudbe7C2gf"
      },
      "execution_count": 24,
      "outputs": []
    },
    {
      "cell_type": "code",
      "source": [
        "preds = []\n",
        "for cl, attr in zip(clasificadores, atributos):\n",
        "  preds.append(cl.predict(x_test.values[:, attr]))\n",
        "preds = np.array(preds)\n",
        "pred_conjunto = (preds.mean(axis=0) > 0.5)*1\n",
        "acc = np.mean(pred_conjunto == y_test)\n",
        "acc"
      ],
      "metadata": {
        "colab": {
          "base_uri": "https://localhost:8080/"
        },
        "id": "rz41C0v5FA2U",
        "outputId": "02c0f082-342e-4be0-b811-7a89b56c8a6c"
      },
      "execution_count": 25,
      "outputs": [
        {
          "output_type": "execute_result",
          "data": {
            "text/plain": [
              "np.float64(0.8229665071770335)"
            ]
          },
          "metadata": {},
          "execution_count": 25
        }
      ]
    },
    {
      "cell_type": "markdown",
      "source": [
        "## Curva de accuracy según el número de clasificadores"
      ],
      "metadata": {
        "id": "K76MP1tNK-4k"
      }
    },
    {
      "cell_type": "code",
      "source": [
        "curva = []\n",
        "for i in range(1, NUM_CLASIFICADORES+1, 2):\n",
        "  preds = []\n",
        "  for cl, attr in zip(clasificadores[:i], atributos[:i]):\n",
        "    preds.append(cl.predict(x_test.values[:, attr]))\n",
        "  preds = np.array(preds)\n",
        "  pred_conjunto = (preds.mean(axis=0) > 0.5)*1\n",
        "  acc = np.mean(pred_conjunto == y_test)\n",
        "  curva.append(acc)"
      ],
      "metadata": {
        "id": "GF7a4_y5EIRm"
      },
      "execution_count": 26,
      "outputs": []
    },
    {
      "cell_type": "code",
      "source": [
        "plt.figure(figsize=(15, 2))\n",
        "plt.plot(range(1, NUM_CLASIFICADORES+1, 2), curva, label=\"Conjunto de clasificadores\")\n",
        "plt.axhline(base_tree.score(x_test, y_test), linestyle=':', color=\"red\", label=\"base\")\n",
        "plt.axhline(max(curva), linestyle=':', color=\"green\", label=\"máximo\")\n",
        "plt.legend()\n",
        "plt.show()"
      ],
      "metadata": {
        "colab": {
          "base_uri": "https://localhost:8080/",
          "height": 214
        },
        "id": "taX7Ic4dFip5",
        "outputId": "6bb04741-01b2-4730-c430-91354fa855c8"
      },
      "execution_count": 27,
      "outputs": [
        {
          "output_type": "display_data",
          "data": {
            "text/plain": [
              "<Figure size 1500x200 with 1 Axes>"
            ],
            "image/png": "[encoded data removed]"
          },
          "metadata": {}
        }
      ]
    },
    {
      "cell_type": "markdown",
      "source": [
        "## Random Forest en Sklearn"
      ],
      "metadata": {
        "id": "99K_c0kBF4k-"
      }
    },
    {
      "cell_type": "code",
      "source": [
        "from sklearn.ensemble import RandomForestClassifier\n",
        "\n",
        "rf = RandomForestClassifier(n_estimators=79)\n",
        "rf.fit(x_train, y_train)\n",
        "rf.score(x_test, y_test)"
      ],
      "metadata": {
        "colab": {
          "base_uri": "https://localhost:8080/"
        },
        "id": "CDjqDGg8FmuS",
        "outputId": "03ef8783-b083-46da-a69e-7f0dcd3dd515"
      },
      "execution_count": 29,
      "outputs": [
        {
          "output_type": "execute_result",
          "data": {
            "text/plain": [
              "0.8133971291866029"
            ]
          },
          "metadata": {},
          "execution_count": 29
        }
      ]
    },
    {
      "cell_type": "markdown",
      "source": [
        "---"
      ],
      "metadata": {
        "id": "28VP79rdGYMu"
      }
    },
    {
      "cell_type": "markdown",
      "source": [
        "# Class Switching"
      ],
      "metadata": {
        "id": "64uYfecrGZF_"
      }
    },
    {
      "cell_type": "markdown",
      "source": [
        "Se alteran los datos modificando las clases aleatoriamente con probabilidad P."
      ],
      "metadata": {
        "id": "H5R4UZYyGbrv"
      }
    },
    {
      "cell_type": "code",
      "source": [
        "P = 0.3\n",
        "NUM_CLASIFICADORES = 101\n",
        "\n",
        "class_switching = []\n",
        "for _ in range(NUM_CLASIFICADORES):\n",
        "  y_switch = np.copy(y_train)*1\n",
        "  indices = np.where(np.random.rand(len(x_train.values)) <= P)[0]\n",
        "  y_switch[indices] += 1\n",
        "  y_switch = (y_switch % 2) == 1\n",
        "  class_switching.append(y_switch)"
      ],
      "metadata": {
        "id": "4SWosLpLGGHs"
      },
      "execution_count": 30,
      "outputs": []
    },
    {
      "cell_type": "code",
      "source": [
        "clasificadores = []\n",
        "for i in range(NUM_CLASIFICADORES):\n",
        "  tree = DecisionTreeClassifier()\n",
        "  tree.fit(x_train.values, class_switching[i])\n",
        "  clasificadores.append(tree)"
      ],
      "metadata": {
        "id": "AKWCrnaTGxLj"
      },
      "execution_count": 31,
      "outputs": []
    },
    {
      "cell_type": "code",
      "source": [
        "preds = []\n",
        "for cl in clasificadores:\n",
        "  preds.append(cl.predict(x_test.values))\n",
        "preds = np.array(preds)\n",
        "pred_conjunto = (preds.mean(axis=0) > 0.5)*1\n",
        "acc = np.mean(pred_conjunto == y_test)\n",
        "acc"
      ],
      "metadata": {
        "colab": {
          "base_uri": "https://localhost:8080/"
        },
        "id": "eDcuK10cHyOk",
        "outputId": "2fb06c20-f22c-433c-a68f-fa8b773f28a4"
      },
      "execution_count": 32,
      "outputs": [
        {
          "output_type": "execute_result",
          "data": {
            "text/plain": [
              "np.float64(0.784688995215311)"
            ]
          },
          "metadata": {},
          "execution_count": 32
        }
      ]
    },
    {
      "cell_type": "markdown",
      "source": [
        "## Curva de accuracy según el número de clasificadores"
      ],
      "metadata": {
        "id": "GJqdoPmELJ6N"
      }
    },
    {
      "cell_type": "code",
      "source": [
        "curva = []\n",
        "for i in range(1, NUM_CLASIFICADORES+1, 2):\n",
        "  preds = []\n",
        "  for cl in clasificadores[:i]:\n",
        "    preds.append(cl.predict(x_test.values))\n",
        "  preds = np.array(preds)\n",
        "  pred_conjunto = (preds.mean(axis=0) > 0.5)*1\n",
        "  acc = np.mean(pred_conjunto == y_test)\n",
        "  curva.append(acc)"
      ],
      "metadata": {
        "id": "YKEnm9a6H7J9"
      },
      "execution_count": 33,
      "outputs": []
    },
    {
      "cell_type": "code",
      "source": [
        "plt.figure(figsize=(15, 2))\n",
        "plt.plot(range(1, NUM_CLASIFICADORES+1, 2), curva, label=\"Conjunto de clasificadores\")\n",
        "plt.axhline(base_tree.score(x_test, y_test), linestyle=':', color=\"red\", label=\"base\")\n",
        "plt.axhline(max(curva), linestyle=':', color=\"green\", label=\"máximo\")\n",
        "plt.legend()\n",
        "plt.show()"
      ],
      "metadata": {
        "colab": {
          "base_uri": "https://localhost:8080/",
          "height": 216
        },
        "id": "-VW158bLIJhZ",
        "outputId": "7fde72f0-1a53-4d28-fa8b-284e7a2de804"
      },
      "execution_count": 34,
      "outputs": [
        {
          "output_type": "display_data",
          "data": {
            "text/plain": [
              "<Figure size 1500x200 with 1 Axes>"
            ],
            "image/png": "[encoded data removed]"
          },
          "metadata": {}
        }
      ]
    },
    {
      "cell_type": "markdown",
      "source": [
        "---"
      ],
      "metadata": {
        "id": "VMzTI0g6Imag"
      }
    },
    {
      "cell_type": "markdown",
      "source": [
        "# Combinación de clasificadores"
      ],
      "metadata": {
        "id": "tIefwCFWIkdf"
      }
    },
    {
      "cell_type": "markdown",
      "source": [
        "Esta estrategia consiste en entrenar diferentes modelos con diferentes hiperparámetros y cada uno es un clasificador."
      ],
      "metadata": {
        "id": "d38_gVNhIueX"
      }
    },
    {
      "cell_type": "code",
      "source": [
        "clasificadores = []"
      ],
      "metadata": {
        "id": "x3Mz5VrEILLF"
      },
      "execution_count": 35,
      "outputs": []
    },
    {
      "cell_type": "code",
      "source": [
        "from sklearn.neighbors import KNeighborsClassifier\n",
        "knn = KNeighborsClassifier(n_neighbors=5)\n",
        "knn.fit(x_train, y_train)\n",
        "clasificadores.append(knn)\n",
        "\n",
        "from sklearn.naive_bayes import GaussianNB\n",
        "nb = GaussianNB()\n",
        "nb.fit(x_train, y_train)\n",
        "clasificadores.append(nb)\n",
        "\n",
        "from sklearn.tree import DecisionTreeClassifier\n",
        "tree = DecisionTreeClassifier()\n",
        "tree.fit(x_train, y_train)\n",
        "clasificadores.append(tree)"
      ],
      "metadata": {
        "id": "ugWWVdtsI2s3"
      },
      "execution_count": 36,
      "outputs": []
    },
    {
      "cell_type": "code",
      "source": [
        "preds = []\n",
        "for cl in clasificadores:\n",
        "  preds.append(cl.predict(x_test))\n",
        "preds = np.array(preds)\n",
        "pred_conjunto = (preds.mean(axis=0) > 0.5)*1\n",
        "acc = np.mean(pred_conjunto == y_test)\n",
        "acc"
      ],
      "metadata": {
        "colab": {
          "base_uri": "https://localhost:8080/"
        },
        "id": "5HkYb71ZJi9F",
        "outputId": "6ea7ff7e-6bd7-44b0-8704-3160a5b8c88c"
      },
      "execution_count": 37,
      "outputs": [
        {
          "output_type": "execute_result",
          "data": {
            "text/plain": [
              "np.float64(0.7177033492822966)"
            ]
          },
          "metadata": {},
          "execution_count": 37
        }
      ]
    },
    {
      "cell_type": "code",
      "source": [],
      "metadata": {
        "id": "OYxj3j_sJqEs"
      },
      "execution_count": null,
      "outputs": []
    }
  ]
}