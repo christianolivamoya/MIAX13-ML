{
 "cells": [
  {
   "cell_type": "markdown",
   "id": "7eb5bb0a",
   "metadata": {},
   "source": [
    "# Taller Clustering"
   ]
  },
  {
   "cell_type": "markdown",
   "id": "8182b9fa",
   "metadata": {},
   "source": [
    "**Objetivos del Taller**\n",
    "\n",
    "- Entender los conceptos básicos de clustering (agrupamiento no supervisado) y su aplicación en finanzas.\n",
    "- Aprender a utilizar los algoritmos K-Means (K-medias) y clustering jerárquico para agrupar fondos de inversión según características cuantitativas.\n",
    "- Aprender a utilizar la herramienta GraphExt (https://www.graphext.com).\n",
    "- Practicar la limpieza y preprocesamiento de datos financieros (precios históricos de fondos).\n",
    "- Extraer características cuantitativas de los activos y comprender su significado financiero.\n",
    "- Aplicar PCA y K-Means sobre estas características para identificar clústeres de fondos similares.\n",
    "- Visualizar los resultados de clustering para interpretar los grupos.\n",
    "- Interpretación financiera de los clústeres y discutir los resultados.\n",
    "\n",
    "**Estructura del Taller**\n",
    "\n",
    "- Presentación: Presentación de objetivos, repaso de aprendizaje no supervisado vs. supervisado, importancia del clustering en análisis financiero.\n",
    "- Limpieza y preprocesamiento de datos: Carga del dataset de precios históricos de fondos, identificación de datos faltantes o anómalos, y técnicas de limpieza.\n",
    "- Ingeniería de características: Cálculo de variables cuantitativas y preparación de la matriz de características para clustering.\n",
    "- Aplicación de PCA (Análisis de Componentes Principales): Aplicación para reducción de dimensionalidad.\n",
    "- Algoritmo K-Means, GraphExt y HAC: Clustering con distintos algoritmos.\n",
    "- Discusión de resultados y conclusiones: Puesta en común de hallazgos, interpretación de clústeres, recomendaciones finales y cierre.\n",
    "\n",
    "**Tesis Financiera**\n",
    "\n",
    "Como gestor, creemos que el mercado asiático va a tener un buen comportamiento el próximo año, por lo tanto, queremos posicionar nuestro fondo de fondos con un claro sesgo a este mercado.\n",
    "\n",
    "**Dataset**\n",
    "\n",
    "- Valores liquidativos de 25.000 fondos de inversión entre 2016-01-05 y 2021-07-16 proporcionados por IronIA.\n",
    "- Factores de Fama & French (Mkt-RF, SMB, HML, MOM) de Asia Pacífico ex Japón.\n",
    "- Valores liquidativos de *iShares MSCI All Country Asia ex Japan ETF (AAXJ)*. **Queda prohibido su uso para extracción de características**. Se utilizará solamente como TEST al final del ejercicio.\n"
   ]
  },
  {
   "cell_type": "markdown",
   "id": "8b3d323c",
   "metadata": {},
   "source": [
    "## Lectura de datos"
   ]
  },
  {
   "cell_type": "markdown",
   "id": "688d16c8",
   "metadata": {},
   "source": [
    "### NAV Fondos"
   ]
  },
  {
   "cell_type": "code",
   "execution_count": null,
   "id": "12dbdcce",
   "metadata": {},
   "outputs": [],
   "source": [
    "import pickle as pkl\n",
    "import pandas as pd\n",
    "import numpy as np\n",
    "import missingno as mso\n",
    "import matplotlib.pyplot as plt\n",
    "import seaborn as sns"
   ]
  },
  {
   "cell_type": "code",
   "execution_count": null,
   "id": "627f8290",
   "metadata": {},
   "outputs": [],
   "source": [
    "# Leemos los datos en crudo del pickle.\n",
    "raw_data = pkl.load(open(\"./dataset/navs.pickle\", \"rb\"))"
   ]
  },
  {
   "cell_type": "code",
   "execution_count": null,
   "id": "ee8cedf4",
   "metadata": {},
   "outputs": [],
   "source": [
    "# TODO: Procesa el objeto para obtener los valores liquidativos de los fondos."
   ]
  },
  {
   "cell_type": "markdown",
   "id": "c701f736",
   "metadata": {},
   "source": [
    "### Factores Fama & French\n",
    "\n",
    "Ref.: https://mba.tuck.dartmouth.edu/pages/faculty/ken.french/data_library.html"
   ]
  },
  {
   "cell_type": "code",
   "execution_count": null,
   "id": "468ae113",
   "metadata": {},
   "outputs": [],
   "source": [
    "data_asia_pacific_ex_japan_3_factors_daily = pd.read_csv(\n",
    "    \"./dataset/Asia_Pacific_ex_Japan_3_Factors_Daily.csv\",\n",
    "    index_col=\"Date\",\n",
    "    parse_dates=True,\n",
    ")"
   ]
  },
  {
   "cell_type": "code",
   "execution_count": null,
   "id": "581d8980",
   "metadata": {},
   "outputs": [],
   "source": [
    "data_asia_pacific_ex_japan_MOM_factor_daily = pd.read_csv(\n",
    "    \"./dataset/Asia_Pacific_ex_Japan_MOM_Factor_Daily.csv\",\n",
    "    index_col=\"Date\",\n",
    "    parse_dates=True,\n",
    ")\n",
    "data_asia_pacific_ex_japan_MOM_factor_daily.columns = [\"MOM\"]"
   ]
  },
  {
   "cell_type": "code",
   "execution_count": null,
   "id": "7c5229e1",
   "metadata": {},
   "outputs": [],
   "source": [
    "# TODO: Examina y procesa los factores de Fama y French."
   ]
  },
  {
   "cell_type": "markdown",
   "id": "81a056d5",
   "metadata": {},
   "source": [
    "## Limpieza de datos"
   ]
  },
  {
   "cell_type": "code",
   "execution_count": null,
   "id": "e7a9ec1d",
   "metadata": {},
   "outputs": [],
   "source": [
    "# TODO: Efectúa la limpieza y alinea los datos."
   ]
  },
  {
   "cell_type": "markdown",
   "id": "f5e53b7b",
   "metadata": {},
   "source": [
    "## Filtrado de fondos Asia Pacific ex-Japan"
   ]
  },
  {
   "cell_type": "code",
   "execution_count": null,
   "id": "c0db5870",
   "metadata": {},
   "outputs": [],
   "source": [
    "import statsmodels.api as sm\n",
    "\n",
    "\n",
    "def run_ordinary_least_squares(X: pd.Series, Y: pd.Series) -> tuple:\n",
    "    \"\"\"Ejecuta una regresión lineal y devuelve el modelo de regresión.\n",
    "\n",
    "    Args:\n",
    "        X (pd.Series): Variable independiente.\n",
    "        Y (pd.Series): Variable dependiente\n",
    "\n",
    "    Returns:\n",
    "        Modelo de regresión.\n",
    "    \"\"\"\n",
    "    X = sm.add_constant(X)\n",
    "\n",
    "    model = sm.OLS(Y, X).fit()\n",
    "\n",
    "    return model"
   ]
  },
  {
   "cell_type": "code",
   "execution_count": null,
   "id": "73c8dba4",
   "metadata": {},
   "outputs": [],
   "source": [
    "# TODO: Prepara los datos y filtra los fondos que nos interesan."
   ]
  },
  {
   "cell_type": "markdown",
   "id": "f5bc0598",
   "metadata": {},
   "source": [
    "## Extracción de características"
   ]
  },
  {
   "cell_type": "markdown",
   "id": "d59adcd7",
   "metadata": {},
   "source": [
    "* **Exceso de rendimiento del fondo** respecto del mercado asiático de referencia ([Fondo-Rf] - [\"Mkt-Rf]) a 1, 3 y 5 años.\n",
    "* **Desviación estándar** a 1, 3 y 5 años.\n",
    "* **Up-Market Capture Ratio**  a 1, 3 y 5 años: Mide el rendimiento relativo a un índice durante los mercados alcistas.\n",
    "$ \\text{Up-Market Capture Ratio}=\\frac{\\text{Portfolio return during Up-Market periods}}{\\text{Benchmark return during Up-Market periods}} \\times 100 $\n",
    "* **Down-Market Capture Ratio**  a 1, 3 y 5 años: Mide el rendimiento relativo a un índice durante los mercados bajistas.\n",
    "$ \\text{Down-Market Capture Ratio}=\\frac{\\text{Portfolio return during Down-Market periods}}{\\text{Benchmark return during Down-Market periods}} \\times 100 $\n",
    "* **Beta** de las regresiones con los 4 factores a 1, 3 y 5 años."
   ]
  },
  {
   "cell_type": "code",
   "execution_count": null,
   "id": "37f92dfb",
   "metadata": {},
   "outputs": [],
   "source": [
    "def calcular_exceso_rentabilidad(funds: pd.DataFrame, market: pd.Series) -> pd.DataFrame:\n",
    "    \"\"\"Calcula la diferencia acumulada entre \"funds\" y \"market\".\n",
    "\n",
    "    Args:\n",
    "        funds (pd.DataFrame): Retornos de los fondos.\n",
    "        market (pd.Series): Retornos del mercado.\n",
    "\n",
    "    Returns:\n",
    "        pd.DataFrame: Diferencia acumulada por fondo.\n",
    "    \"\"\"\n",
    "    diff = funds.subtract(market, axis=0)\n",
    "    diff = diff.sum(axis=0)\n",
    "\n",
    "    return diff"
   ]
  },
  {
   "cell_type": "code",
   "execution_count": null,
   "id": "22bf45ad",
   "metadata": {},
   "outputs": [],
   "source": [
    "def calcular_desviacion_standar(funds: pd.DataFrame) -> pd.DataFrame:\n",
    "    \"\"\"Calcula la desviación estándar de los fondos.\n",
    "\n",
    "    Args:\n",
    "        funds (pd.DataFrame): Retornos de los fondos.\n",
    "\n",
    "    Returns:\n",
    "        pd.DataFrame: Desviación estándar por fondo.\n",
    "    \"\"\"\n",
    "    std = funds.std(axis=0)\n",
    "\n",
    "    return std"
   ]
  },
  {
   "cell_type": "code",
   "execution_count": null,
   "id": "6370ab30",
   "metadata": {},
   "outputs": [],
   "source": [
    "def calcular_up_market_capture_ratio(funds: pd.DataFrame, market: pd.Series) -> pd.DataFrame:\n",
    "    \"\"\"Calcula el up market capture ratio de los fondos.\n",
    "\n",
    "    Args:\n",
    "        funds (pd.DataFrame): Retornos de los fondos.\n",
    "        market (pd.Series): Retornos del mercado.\n",
    "\n",
    "    Returns:\n",
    "        pd.DataFrame: Up market capture ratio por fondo.\n",
    "    \"\"\"\n",
    "    # Filtramos los días donde el los fondos suben.\n",
    "    funds_up_days_mask = funds > 0\n",
    "    funds_up_days_mask = funds_up_days_mask.astype(int)\n",
    "    funds_up_days = funds * funds_up_days_mask\n",
    "    funds_up_days = funds_up_days.sum(axis=0)\n",
    "\n",
    "    # Filtramos los días donde el mercado sube.\n",
    "    market_up_days_mask = market > 0\n",
    "    market_up_days_mask = market_up_days_mask.astype(int)\n",
    "    market_up_days = market * market_up_days_mask\n",
    "    market_up_days = market_up_days.sum(axis=0)\n",
    "\n",
    "    # Calculamos el up market capture ratio.\n",
    "    ratio = funds_up_days / market_up_days\n",
    "\n",
    "    return ratio"
   ]
  },
  {
   "cell_type": "code",
   "execution_count": null,
   "id": "920816d7",
   "metadata": {},
   "outputs": [],
   "source": [
    "def calcular_down_market_capture_ratio(funds: pd.DataFrame, market: pd.Series) -> pd.DataFrame:\n",
    "    \"\"\"Calcula el down market capture ratio de los fondos.\n",
    "\n",
    "    Args:\n",
    "        funds (pd.DataFrame): Retornos de los fondos.\n",
    "        market (pd.Series): Retornos del mercado.\n",
    "\n",
    "    Returns:\n",
    "        pd.DataFrame: Down market capture ratio por fondo.\n",
    "    \"\"\"\n",
    "    # Filtramos los días donde el los fondos bajan.\n",
    "    funds_down_days_mask = funds < 0\n",
    "    funds_down_days_mask = funds_down_days_mask.astype(int)\n",
    "    funds_down_days = funds * funds_down_days_mask\n",
    "    funds_down_days = funds_down_days.sum(axis=0)\n",
    "\n",
    "    # Filtramos los días donde el mercado baja.\n",
    "    market_down_days_mask = market < 0\n",
    "    market_down_days_mask = market_down_days_mask.astype(int)\n",
    "    market_down_days = market * market_down_days_mask\n",
    "    market_down_days = market_down_days.sum(axis=0)\n",
    "\n",
    "    # Calculamos el down market capture ratio.\n",
    "    ratio = funds_down_days / market_down_days\n",
    "\n",
    "    return ratio"
   ]
  },
  {
   "cell_type": "code",
   "execution_count": null,
   "id": "778a7512",
   "metadata": {},
   "outputs": [],
   "source": [
    "def calcular_regresion_lineal(fund: pd.Series, factor: pd.Series) -> dict:\n",
    "    \"\"\"Calcula la regresión lineal entre un fondo y un factor.\n",
    "\n",
    "    Args:\n",
    "        fund (pd.Series): Retornos del fondo\n",
    "        factor (pd.Series): Factor de riesgo\n",
    "\n",
    "    Returns:\n",
    "        dict: Diccionario con los resultados de la regresión.\n",
    "    \"\"\"\n",
    "    factor_name = factor.name\n",
    "    model = run_ordinary_least_squares(factor, fund)\n",
    "\n",
    "    # Extraemos los resultados de la regresión.\n",
    "    alpha = model.params[\"const\"]\n",
    "    beta = model.params[factor.name]\n",
    "    r2 = model.rsquared\n",
    "    alpha_pvalue = model.pvalues[\"const\"]\n",
    "    beta_pvalue = model.pvalues[factor.name]\n",
    "    alpha_tvalue = model.tvalues[\"const\"]\n",
    "    beta_tvalue = model.tvalues[factor.name]\n",
    "    alpha_tvalue_adjusted = alpha * (1 - np.exp(-1 * np.abs(alpha_tvalue)))\n",
    "    beta_tvalue_adjusted = beta * (1 - np.exp(-1 * np.abs(beta_tvalue)))\n",
    "\n",
    "    # Guardamos los resultados en un diccionario.\n",
    "    results = {\n",
    "        f\"{factor_name}_Alpha\": alpha,\n",
    "        f\"{factor_name}_Beta\": beta,\n",
    "        f\"{factor_name}_R2\": r2,\n",
    "        f\"{factor_name}_Alpha p-value\": alpha_pvalue,\n",
    "        f\"{factor_name}_Beta p-value\": beta_pvalue,\n",
    "        f\"{factor_name}_Alpha t-value\": alpha_tvalue,\n",
    "        f\"{factor_name}_Beta t-value\": beta_tvalue,\n",
    "        f\"{factor_name}_Alpha t-value adjusted\": alpha_tvalue_adjusted,\n",
    "        f\"{factor_name}_Beta t-value adjusted\": beta_tvalue_adjusted,\n",
    "    }\n",
    "    return results"
   ]
  },
  {
   "cell_type": "code",
   "execution_count": null,
   "id": "e14aeba8",
   "metadata": {},
   "outputs": [],
   "source": [
    "# TODO: Realizar extracción de características para todos los fondos."
   ]
  },
  {
   "cell_type": "markdown",
   "id": "5b9fe0df",
   "metadata": {},
   "source": [
    "## PCA + Clustering con KMeans"
   ]
  },
  {
   "cell_type": "code",
   "execution_count": null,
   "id": "75bd6dca",
   "metadata": {},
   "outputs": [],
   "source": [
    "# TODO: Realiza PCA para reducir la dimensionalidad de los datos.\n",
    "# TODO: Interpreta autovectores y autovalores. Selecciona el número de componentes principales.\n",
    "# TODO: Realiza la proyección de los datos en el espacio de los componentes principales.\n",
    "# TODO: Realiza clustering con KMeans (selecciona el k adecuado) en los datos proyectados.\n",
    "# TODO: Examina e interpreta los centroides de los clusters.\n",
    "# TODO: Selecciona el cluster que más te interese y filtra los fondos.\n",
    "# TODO: Descarga los datos del ETF AAXJ y compara su comportamiento con los fondos seleccionados."
   ]
  },
  {
   "cell_type": "markdown",
   "id": "f236e12e",
   "metadata": {},
   "source": [
    "## Clustering con GraphExt"
   ]
  },
  {
   "cell_type": "code",
   "execution_count": null,
   "id": "db7b7627",
   "metadata": {},
   "outputs": [],
   "source": [
    "# TODO: Prepara los datos para exportar a GraphExt.\n",
    "# TODO: Realiza clustering de los fondos seleccionados usando k-NNG y UMAP.\n",
    "# TODO: Visualiza los datos de los distintos clusters."
   ]
  },
  {
   "cell_type": "markdown",
   "id": "181f3206",
   "metadata": {},
   "source": [
    "## Clustering Jerárquico Aglomerativo"
   ]
  },
  {
   "cell_type": "code",
   "execution_count": null,
   "id": "6da2a5be",
   "metadata": {},
   "outputs": [],
   "source": [
    "# TODO: Realiza clustering de los fondos seleccionados usando HAC.\n",
    "# TODO: Visualiza los datos de los distintos clusters.\n"
   ]
  },
  {
   "cell_type": "code",
   "execution_count": null,
   "id": "ea76a5a6",
   "metadata": {},
   "outputs": [],
   "source": [
    "# TODO: ¿Próximos pasos?"
   ]
  }
 ],
 "metadata": {
  "kernelspec": {
   "display_name": ".venv",
   "language": "python",
   "name": "python3"
  },
  "language_info": {
   "codemirror_mode": {
    "name": "ipython",
    "version": 3
   },
   "file_extension": ".py",
   "mimetype": "text/x-python",
   "name": "python",
   "nbconvert_exporter": "python",
   "pygments_lexer": "ipython3",
   "version": "3.10.6"
  }
 },
 "nbformat": 4,
 "nbformat_minor": 5
}
